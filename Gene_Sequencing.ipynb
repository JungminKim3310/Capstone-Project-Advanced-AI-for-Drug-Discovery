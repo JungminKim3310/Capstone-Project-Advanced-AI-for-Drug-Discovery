{
 "cells": [
  {
   "cell_type": "markdown",
   "metadata": {
    "deletable": false,
    "editable": false,
    "nbgrader": {
     "cell_type": "markdown",
     "checksum": "a64a21cdeec5623ff702f9628561736f",
     "grade": false,
     "grade_id": "cell-17ea1a2802d4b9d6",
     "locked": true,
     "schema_version": 3,
     "solution": false,
     "task": false
    }
   },
   "source": [
    "## Gene Sequencing"
   ]
  },
  {
   "cell_type": "code",
   "execution_count": 206,
   "metadata": {
    "deletable": false,
    "editable": false,
    "nbgrader": {
     "cell_type": "code",
     "checksum": "082610db126d312b672fe331927547f4",
     "grade": false,
     "grade_id": "cell-dfd3408c25d0ae80",
     "locked": true,
     "schema_version": 3,
     "solution": false,
     "task": false
    }
   },
   "outputs": [],
   "source": [
    "### Importing packages and reading in data.\n",
    "### Genome sequencing data is stored in the dataframe pn.\n",
    "### Notice how each column has separate sequencing data.\n",
    "import pandas as pd\n",
    "import numpy as np\n",
    "\n",
    "pn = pd.read_csv('SARS_CORONAVIRUS_NC_045512_sequence.fasta', header = None)[1:][0]\n",
    "pn = pd.DataFrame(pn)\n",
    "\n",
    "pn.columns = ['Genome Sequence']\n"
   ]
  },
  {
   "cell_type": "code",
   "execution_count": 208,
   "metadata": {
    "deletable": false,
    "nbgrader": {
     "cell_type": "code",
     "checksum": "f33c5664a3cd9979d7dfde76d156ab34",
     "grade": false,
     "grade_id": "cell-9c7feb2917185737",
     "locked": false,
     "schema_version": 3,
     "solution": true,
     "task": false
    }
   },
   "outputs": [
    {
     "name": "stdout",
     "output_type": "stream",
     "text": [
      "                                       Genome Sequence  Len\n",
      "1    ATTAAAGGTTTATACCTTCCCAGGTAACAAACCAACCAACTTTCGA...   70\n",
      "2    CGAACTTTAAAATCTGTGTGGCTGTCACTCGGCTGCATGCTTAGTG...   70\n",
      "3    TAATTACTGTCGTTGACAGGACACGAGTAACTCGTCTATCTTCTGC...   70\n",
      "4    TTGCAGCCGATCATCAGCACATCTAGGTTTCGTCCGGGTGTGACCG...   70\n",
      "5    CCTGGTTTCAACGAGAAAACACACGTCCAACTCAGTTTGCCTGTTT...   70\n",
      "..                                                 ...  ...\n",
      "423  CAGACCACACAAGGCAGATGGGCTATATAAACGTTTTCGCTTTTCC...   70\n",
      "424  GTGCAGAATGAATTCTCGTAACTACATAGCACAAGTAGATGTAGTT...   70\n",
      "425  TTAATCAGTGTGTAACATTAGGGAGGACTTGAAAGAGCCACCACAT...   70\n",
      "426  GATCGAGTGTACAGTGAACAATGCTAGGGAGAGCTGCCTATATGGA...   70\n",
      "427  TTTAGTAGTGCTATCCCCATGTGATTTTAATAGCTTCTTAGGAGAA...   70\n",
      "\n",
      "[427 rows x 2 columns]\n"
     ]
    }
   ],
   "source": [
    "## Find the length of the sequence in each row and store the results in a new\n",
    "## column called ['Len']. Then, find the median length of these genome sequences and store it \n",
    "## in a variable called 'median_len'. Delete all rows that are not of this length.\n",
    "\n",
    "\n",
    "def SeqLen(column):\n",
    "    return len(column)\n",
    "\n",
    "pn[\"Len\"]=pn[\"Genome Sequence\"].apply(SeqLen)\n",
    "\n",
    "median_len = np.median(pn[\"Len\"])\n",
    "\n",
    "pn=pn[pn[\"Len\"]==median_len]\n",
    "print(pn)"
   ]
  },
  {
   "cell_type": "code",
   "execution_count": null,
   "metadata": {
    "deletable": false,
    "editable": false,
    "nbgrader": {
     "cell_type": "code",
     "checksum": "08f4c7e7759144ba34eeeaedcaee8586",
     "grade": true,
     "grade_id": "cell-79f88ddb76010cc3",
     "locked": true,
     "points": 20,
     "schema_version": 3,
     "solution": false,
     "task": false
    }
   },
   "outputs": [],
   "source": []
  },
  {
   "cell_type": "code",
   "execution_count": 209,
   "metadata": {
    "deletable": false,
    "nbgrader": {
     "cell_type": "code",
     "checksum": "6a904732a4600f399af0306f5c347339",
     "grade": false,
     "grade_id": "cell-086057e5e838c7a6",
     "locked": false,
     "schema_version": 3,
     "solution": true,
     "task": false
    }
   },
   "outputs": [
    {
     "name": "stdout",
     "output_type": "stream",
     "text": [
      "                                       Genome Sequence  Len  match?\n",
      "1    ATTAAAGGTTTATACCTTCCCAGGTAACAAACCAACCAACTTTCGA...   70       0\n",
      "2    CGAACTTTAAAATCTGTGTGGCTGTCACTCGGCTGCATGCTTAGTG...   70       0\n",
      "3    TAATTACTGTCGTTGACAGGACACGAGTAACTCGTCTATCTTCTGC...   70       0\n",
      "4    TTGCAGCCGATCATCAGCACATCTAGGTTTCGTCCGGGTGTGACCG...   70       0\n",
      "5    CCTGGTTTCAACGAGAAAACACACGTCCAACTCAGTTTGCCTGTTT...   70       0\n",
      "..                                                 ...  ...     ...\n",
      "423  CAGACCACACAAGGCAGATGGGCTATATAAACGTTTTCGCTTTTCC...   70       0\n",
      "424  GTGCAGAATGAATTCTCGTAACTACATAGCACAAGTAGATGTAGTT...   70       0\n",
      "425  TTAATCAGTGTGTAACATTAGGGAGGACTTGAAAGAGCCACCACAT...   70       0\n",
      "426  GATCGAGTGTACAGTGAACAATGCTAGGGAGAGCTGCCTATATGGA...   70       0\n",
      "427  TTTAGTAGTGCTATCCCCATGTGATTTTAATAGCTTCTTAGGAGAA...   70       0\n",
      "\n",
      "[427 rows x 3 columns]\n"
     ]
    }
   ],
   "source": [
    "## Create a new column titled 'Match?' with a 1/0 corresponding to whether or not the sequence\n",
    "## contains the substring 'TAATTTAGGCATGCCTT'.\n",
    "\n",
    "def match(column):\n",
    "    if 'TAATTTAGGCATGCCTT' in column :\n",
    "        return 1\n",
    "    else :\n",
    "        return 0\n",
    "    \n",
    "\n",
    "pn[\"match?\"]=pn[\"Genome Sequence\"].apply(match)\n",
    "\n",
    "print(pn)\n",
    "\n"
   ]
  },
  {
   "cell_type": "code",
   "execution_count": 212,
   "metadata": {
    "deletable": false,
    "nbgrader": {
     "cell_type": "code",
     "checksum": "19cfb31d3d9a71fe85fde6507c17a333",
     "grade": false,
     "grade_id": "cell-ade8dce5bc7b15f6",
     "locked": false,
     "schema_version": 3,
     "solution": true,
     "task": false
    }
   },
   "outputs": [
    {
     "name": "stdout",
     "output_type": "stream",
     "text": [
      "[0, 51, 50, 59, 51, 56, 52, 57, 55, 54, 54, 56, 47, 56, 51, 51, 54, 50, 54, 50, 51, 57, 49, 48, 56, 48, 46, 51, 51, 45, 53, 42, 49, 44, 50, 56, 48, 53, 45, 54, 54, 49, 44, 59, 53, 51, 48, 51, 46, 55, 53, 56, 49, 49, 51, 57, 51, 50, 52, 56, 50, 47, 54, 52, 47, 48, 50, 51, 52, 52, 49, 47, 56, 50, 48, 52, 52, 52, 53, 54, 58, 50, 52, 52, 46, 56, 49, 56, 49, 47, 57, 52, 49, 50, 53, 48, 50, 50, 52, 55, 54, 57, 50, 57, 53, 51, 52, 51, 55, 48, 44, 52, 55, 54, 52, 46, 53, 57, 52, 51, 53, 51, 58, 51, 50, 53, 49, 50, 45, 48, 52, 50, 52, 59, 47, 54, 46, 48, 47, 47, 48, 48, 56, 54, 54, 45, 49, 52, 52, 45, 54, 59, 55, 49, 56, 54, 53, 45, 50, 52, 49, 57, 56, 48, 49, 48, 57, 55, 48, 53, 52, 47, 54, 53, 50, 55, 51, 53, 51, 51, 52, 52, 55, 47, 50, 53, 49, 51, 47, 52, 55, 52, 54, 53, 50, 50, 52, 51, 50, 51, 49, 51, 54, 53, 55, 52, 48, 50, 57, 47, 59, 45, 51, 51, 51, 60, 47, 50, 60, 51, 48, 55, 59, 48, 46, 51, 49, 53, 50, 43, 54, 55, 49, 48, 58, 48, 50, 50, 46, 52, 42, 60, 54, 50, 61, 50, 55, 52, 49, 53, 54, 54, 49, 48, 55, 44, 51, 59, 52, 53, 49, 55, 44, 50, 55, 51, 45, 49, 49, 49, 51, 53, 49, 52, 47, 55, 51, 49, 56, 51, 51, 45, 53, 59, 44, 55, 52, 54, 51, 48, 51, 49, 57, 46, 55, 48, 48, 52, 47, 47, 51, 53, 48, 49, 54, 53, 51, 50, 55, 48, 47, 51, 54, 52, 50, 55, 53, 58, 55, 55, 44, 51, 53, 51, 47, 52, 48, 52, 53, 55, 54, 54, 51, 50, 49, 60, 48, 55, 51, 49, 46, 60, 54, 48, 52, 52, 47, 47, 53, 49, 53, 52, 43, 60, 52, 49, 50, 58, 55, 51, 53, 49, 43, 51, 54, 45, 53, 55, 43, 53, 53, 49, 48, 48, 49, 52, 48, 57, 53, 51, 51, 50, 52, 51, 53, 51, 53, 50, 47, 52, 53, 48, 53, 53, 47, 55, 44, 52, 47, 52, 53, 51, 50, 56, 48, 50, 47, 59, 52, 53, 49, 48, 55, 52, 54, 47, 46, 52, 51, 46, 51, 44, 52, 55, 49, 51]\n"
     ]
    }
   ],
   "source": [
    "\n",
    "## Create a matrix called 'differences' storing the number of differences in the sequences between the rows.\n",
    "\n",
    "def dif_seq(column1, column2):\n",
    "    count = 0\n",
    "    for i in range(len(column1)):\n",
    "        if column1[i] != column2[i]:\n",
    "            count+=1\n",
    "        else : \n",
    "            count = count\n",
    "    return count\n",
    "differences = []\n",
    "for j in range(1,len(pn[\"Genome Sequence\"])):\n",
    "    differences.append(dif_seq(pn[\"Genome Sequence\"][1],pn[\"Genome Sequence\"][j]))\n",
    "    \n",
    "print(differences)    "
   ]
  },
  {
   "cell_type": "code",
   "execution_count": null,
   "metadata": {
    "deletable": false,
    "editable": false,
    "nbgrader": {
     "cell_type": "code",
     "checksum": "e3d287303eaa5535bb749c3514a05d6e",
     "grade": true,
     "grade_id": "cell-5d1f4dcdf3e3f961",
     "locked": true,
     "points": 35,
     "schema_version": 3,
     "solution": false,
     "task": false
    }
   },
   "outputs": [],
   "source": []
  },
  {
   "cell_type": "code",
   "execution_count": 215,
   "metadata": {
    "deletable": false,
    "nbgrader": {
     "cell_type": "code",
     "checksum": "ae16ead5d352bb0c566784f139aa3505",
     "grade": false,
     "grade_id": "cell-d1b38cfe01a75319",
     "locked": false,
     "schema_version": 3,
     "solution": true,
     "task": false
    }
   },
   "outputs": [
    {
     "name": "stdout",
     "output_type": "stream",
     "text": [
      "36.0 (87, 117)\n"
     ]
    }
   ],
   "source": [
    "## Find the two genome sequences that are most similar. Store them in a tuple called 'similar' with the format (row1, row2).\n",
    "\n",
    "table_sim=np.zeros((len(pn[\"Genome Sequence\"]),len(pn[\"Genome Sequence\"])))\n",
    "differences2=[]\n",
    "min_val = 1000\n",
    "simm=(0,0)\n",
    "\n",
    "for i in range(1,len(pn[\"Genome Sequence\"])+1):\n",
    "        for j in range(1,len(pn[\"Genome Sequence\"])+1):\n",
    "                differences2.append(dif_seq(pn[\"Genome Sequence\"][i],pn[\"Genome Sequence\"][j]))\n",
    "        table_sim[i-1]=differences2\n",
    "        differences2=[]\n",
    "\n",
    "for i in range(0,len(pn[\"Genome Sequence\"])):\n",
    "        for j in range(0,len(pn[\"Genome Sequence\"])-1):\n",
    "                if table_sim[i][j]==0:\n",
    "                        table_sim[i][j]=1000\n",
    "\n",
    "for i in range(0,len(pn[\"Genome Sequence\"])):\n",
    "        for j in range(0,len(pn[\"Genome Sequence\"])-1):\n",
    "                if table_sim[i][j]<min_val:\n",
    "                        min_val=table_sim[i][j]\n",
    "                        simm=(i,j)\n",
    "                \n",
    "\n",
    "table_sim_pd=pd.DataFrame(table_sim)\n",
    "print(min_val, simm)"
   ]
  },
  {
   "cell_type": "code",
   "execution_count": null,
   "metadata": {
    "deletable": false,
    "editable": false,
    "nbgrader": {
     "cell_type": "code",
     "checksum": "986123245adfe0711879974059c3d1b7",
     "grade": true,
     "grade_id": "cell-99846ef739a2e76f",
     "locked": true,
     "points": 25,
     "schema_version": 3,
     "solution": false,
     "task": false
    }
   },
   "outputs": [],
   "source": []
  }
 ],
 "metadata": {
  "kernelspec": {
   "display_name": "Python 3",
   "language": "python",
   "name": "python3"
  },
  "language_info": {
   "codemirror_mode": {
    "name": "ipython",
    "version": 3
   },
   "file_extension": ".py",
   "mimetype": "text/x-python",
   "name": "python",
   "nbconvert_exporter": "python",
   "pygments_lexer": "ipython3",
   "version": "3.9.6"
  }
 },
 "nbformat": 4,
 "nbformat_minor": 4
}
